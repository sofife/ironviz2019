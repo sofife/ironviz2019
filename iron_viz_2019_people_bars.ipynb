{
 "cells": [
  {
   "cell_type": "code",
   "execution_count": 66,
   "metadata": {},
   "outputs": [],
   "source": [
    "import pandas as pd"
   ]
  },
  {
   "cell_type": "markdown",
   "metadata": {},
   "source": [
    "### Refugee stats for each bar\n",
    "- Avg 9 years:  67,909 \n",
    "- 2018:  22,491 (45,000 cap)\n",
    "- 2019:  30,000 cap"
   ]
  },
  {
   "cell_type": "code",
   "execution_count": 116,
   "metadata": {},
   "outputs": [],
   "source": [
    "# Create a basic dataframe for each bar with 1 record per person\n",
    "df_a = pd.DataFrame(data={'bar_index':list(range(67909))})\n",
    "df_b = pd.DataFrame(data={'bar_index':list(range(45000))})\n",
    "df_c = pd.DataFrame(data={'bar_index':list(range(30000))})"
   ]
  },
  {
   "cell_type": "code",
   "execution_count": 119,
   "metadata": {},
   "outputs": [],
   "source": [
    "# Add a label for each set\n",
    "df_a['bar_label'] = 'bar_a'\n",
    "df_b['bar_label'] = 'bar_b'\n",
    "df_c['bar_label'] = 'bar_c'"
   ]
  },
  {
   "cell_type": "code",
   "execution_count": 133,
   "metadata": {},
   "outputs": [],
   "source": [
    "# Set a bit flag for whether a record represents a refugee or not\n",
    "df_a['refugee_flag'] = 1\n",
    "df_b['refugee_flag'] = df_b['bar_index'].apply(lambda x: 1 if x <= 22491 else 0)\n",
    "df_c['refugee_flag'] = 0"
   ]
  },
  {
   "cell_type": "code",
   "execution_count": 124,
   "metadata": {},
   "outputs": [],
   "source": [
    "# Set a different number for each different group, in case we want to use a different color for each\n",
    "df_a['color_group'] = 1\n",
    "df_b['color_group'] = df_b['bar_index'].apply(lambda x: 2 if x <= 22491 else 3)\n",
    "df_c['color_group'] = 4"
   ]
  },
  {
   "cell_type": "code",
   "execution_count": 154,
   "metadata": {},
   "outputs": [
    {
     "name": "stdout",
     "output_type": "stream",
     "text": [
      "0 110.00000000000001 220.00000000000003\n"
     ]
    }
   ],
   "source": [
    "# Change shape of bar by changing parameters\n",
    "bar_width = 100\n",
    "bar_space = 0.1 # must be in tenths, space between bars\n",
    "\n",
    "# First bar starts at x=0\n",
    "a_start = 0\n",
    "# 2nd bar starts at this point\n",
    "b_start = (1 + bar_space) * bar_width\n",
    "# 3rd bar starts at this point\n",
    "c_start = (2 + 2*bar_space) * bar_width\n",
    "print(a_start, b_start, c_start)"
   ]
  },
  {
   "cell_type": "code",
   "execution_count": 155,
   "metadata": {},
   "outputs": [],
   "source": [
    "# Set x position for each record\n",
    "df_a['x_pos'] = df_a['bar_index'].apply(lambda x: x % bar_width + a_start)\n",
    "df_b['x_pos'] = df_b['bar_index'].apply(lambda x: x % bar_width + b_start)\n",
    "df_c['x_pos'] = df_c['bar_index'].apply(lambda x: x % bar_width + c_start)"
   ]
  },
  {
   "cell_type": "code",
   "execution_count": 156,
   "metadata": {},
   "outputs": [],
   "source": [
    "# Set y position for each record\n",
    "df_a['y_pos'] = df_a['bar_index'].apply(lambda x: x // bar_width)\n",
    "df_b['y_pos'] = df_b['bar_index'].apply(lambda x: x // bar_width)\n",
    "df_c['y_pos'] = df_c['bar_index'].apply(lambda x: x // bar_width)"
   ]
  },
  {
   "cell_type": "code",
   "execution_count": 157,
   "metadata": {},
   "outputs": [
    {
     "data": {
      "text/html": [
       "<div>\n",
       "<style scoped>\n",
       "    .dataframe tbody tr th:only-of-type {\n",
       "        vertical-align: middle;\n",
       "    }\n",
       "\n",
       "    .dataframe tbody tr th {\n",
       "        vertical-align: top;\n",
       "    }\n",
       "\n",
       "    .dataframe thead th {\n",
       "        text-align: right;\n",
       "    }\n",
       "</style>\n",
       "<table border=\"1\" class=\"dataframe\">\n",
       "  <thead>\n",
       "    <tr style=\"text-align: right;\">\n",
       "      <th></th>\n",
       "      <th>bar_index</th>\n",
       "      <th>bar_label</th>\n",
       "      <th>refugee_flag</th>\n",
       "      <th>color_group</th>\n",
       "      <th>x_pos</th>\n",
       "      <th>y_pos</th>\n",
       "    </tr>\n",
       "  </thead>\n",
       "  <tbody>\n",
       "    <tr>\n",
       "      <th>0</th>\n",
       "      <td>0</td>\n",
       "      <td>bar_a</td>\n",
       "      <td>1</td>\n",
       "      <td>1</td>\n",
       "      <td>0.0</td>\n",
       "      <td>0</td>\n",
       "    </tr>\n",
       "    <tr>\n",
       "      <th>1</th>\n",
       "      <td>1</td>\n",
       "      <td>bar_a</td>\n",
       "      <td>1</td>\n",
       "      <td>1</td>\n",
       "      <td>1.0</td>\n",
       "      <td>0</td>\n",
       "    </tr>\n",
       "    <tr>\n",
       "      <th>2</th>\n",
       "      <td>2</td>\n",
       "      <td>bar_a</td>\n",
       "      <td>1</td>\n",
       "      <td>1</td>\n",
       "      <td>2.0</td>\n",
       "      <td>0</td>\n",
       "    </tr>\n",
       "    <tr>\n",
       "      <th>3</th>\n",
       "      <td>3</td>\n",
       "      <td>bar_a</td>\n",
       "      <td>1</td>\n",
       "      <td>1</td>\n",
       "      <td>3.0</td>\n",
       "      <td>0</td>\n",
       "    </tr>\n",
       "    <tr>\n",
       "      <th>4</th>\n",
       "      <td>4</td>\n",
       "      <td>bar_a</td>\n",
       "      <td>1</td>\n",
       "      <td>1</td>\n",
       "      <td>4.0</td>\n",
       "      <td>0</td>\n",
       "    </tr>\n",
       "  </tbody>\n",
       "</table>\n",
       "</div>"
      ],
      "text/plain": [
       "   bar_index bar_label  refugee_flag  color_group  x_pos  y_pos\n",
       "0          0     bar_a             1            1    0.0      0\n",
       "1          1     bar_a             1            1    1.0      0\n",
       "2          2     bar_a             1            1    2.0      0\n",
       "3          3     bar_a             1            1    3.0      0\n",
       "4          4     bar_a             1            1    4.0      0"
      ]
     },
     "execution_count": 157,
     "metadata": {},
     "output_type": "execute_result"
    }
   ],
   "source": [
    "# Union the 3 datasets\n",
    "df_bars = pd.concat([df_a, df_b, df_c])\n",
    "df_bars.reset_index(drop=True)\n",
    "df_bars.head()"
   ]
  },
  {
   "cell_type": "code",
   "execution_count": 158,
   "metadata": {},
   "outputs": [
    {
     "data": {
      "text/plain": [
       "(142909, 6)"
      ]
     },
     "execution_count": 158,
     "metadata": {},
     "output_type": "execute_result"
    }
   ],
   "source": [
    "# Confirm the correct number of records\n",
    "df_bars.shape"
   ]
  },
  {
   "cell_type": "code",
   "execution_count": 159,
   "metadata": {},
   "outputs": [],
   "source": [
    "# Save to csv\n",
    "df_bars.to_csv('iron_viz_bars.csv')"
   ]
  }
 ],
 "metadata": {
  "kernelspec": {
   "display_name": "Python [conda env:root] *",
   "language": "python",
   "name": "conda-root-py"
  },
  "language_info": {
   "codemirror_mode": {
    "name": "ipython",
    "version": 3
   },
   "file_extension": ".py",
   "mimetype": "text/x-python",
   "name": "python",
   "nbconvert_exporter": "python",
   "pygments_lexer": "ipython3",
   "version": "3.7.1"
  }
 },
 "nbformat": 4,
 "nbformat_minor": 2
}
